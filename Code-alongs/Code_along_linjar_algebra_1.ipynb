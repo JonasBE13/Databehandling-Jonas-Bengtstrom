{
 "cells": [
  {
   "cell_type": "code",
   "execution_count": 1,
   "metadata": {},
   "outputs": [],
   "source": [
    "import sympy"
   ]
  },
  {
   "cell_type": "markdown",
   "metadata": {},
   "source": [
    "På detta sätt kan python göra gausseliminering själv. "
   ]
  },
  {
   "cell_type": "code",
   "execution_count": 4,
   "metadata": {},
   "outputs": [
    {
     "name": "stdout",
     "output_type": "stream",
     "text": [
      "(Matrix([\n",
      "[1, -2, 0, 0, 3],\n",
      "[0,  0, 1, 0, 2],\n",
      "[0,  0, 0, 1, 1],\n",
      "[0,  0, 0, 0, 0]]), (0, 2, 3))\n"
     ]
    }
   ],
   "source": [
    "M = sympy.Matrix([\n",
    "[ 1, -2, 3, 5, 14],\n",
    "[-2, 4, -5, -10, -26],\n",
    "[ 2, -4, 6, 11, 29],\n",
    "[-1, 2, -2, -5, -12]])\n",
    "\n",
    "print(M.rref()) # reduced row echelon form, räknar bara ut reducerad trappstegs form"
   ]
  },
  {
   "cell_type": "markdown",
   "metadata": {},
   "source": [
    "Första, tredje och fjärde kolonnerna är pivotkolonner. (0, 2, 3), *(python räknar från 0)* (kolonn 1, 3, 4)"
   ]
  },
  {
   "cell_type": "markdown",
   "metadata": {},
   "source": [
    "Matrister som har samma \"form\" kan adderas och subtraheras. alltså, samma mängd rader och samma mängd kolonner."
   ]
  },
  {
   "cell_type": "markdown",
   "metadata": {},
   "source": [
    "En matris kan multipliceras med skalär (tal)."
   ]
  },
  {
   "cell_type": "markdown",
   "metadata": {},
   "source": [
    "En matris med bara en kolonn kallas för kolonnmatris "
   ]
  },
  {
   "cell_type": "markdown",
   "metadata": {},
   "source": [
    "En matris med p kolonner kan multipliceras med en verktor med p rader."
   ]
  },
  {
   "cell_type": "code",
   "execution_count": 5,
   "metadata": {},
   "outputs": [
    {
     "name": "stdout",
     "output_type": "stream",
     "text": [
      "[4. 3. 1.]\n"
     ]
    }
   ],
   "source": [
    "import numpy\n",
    "import scipy.linalg\n",
    "\n",
    "A = numpy.array([\n",
    "    [1, -2, 3],\n",
    "    [2, -4, 7],\n",
    "    [-3, 5, -1]\n",
    "])\n",
    "\n",
    "b = numpy.array([1,3,2])\n",
    "\n",
    "x = scipy.linalg.solve(A, b)\n",
    "\n",
    "print(x)"
   ]
  }
 ],
 "metadata": {
  "kernelspec": {
   "display_name": "Python 3.9.13 ('Databehandling-Jonas-Bengtstrom-KZonRVw0')",
   "language": "python",
   "name": "python3"
  },
  "language_info": {
   "codemirror_mode": {
    "name": "ipython",
    "version": 3
   },
   "file_extension": ".py",
   "mimetype": "text/x-python",
   "name": "python",
   "nbconvert_exporter": "python",
   "pygments_lexer": "ipython3",
   "version": "3.9.13"
  },
  "orig_nbformat": 4,
  "vscode": {
   "interpreter": {
    "hash": "3d9aca888bb0dc29d26515c79305542da6d6275f5b5f9890ed01d991243e264a"
   }
  }
 },
 "nbformat": 4,
 "nbformat_minor": 2
}
